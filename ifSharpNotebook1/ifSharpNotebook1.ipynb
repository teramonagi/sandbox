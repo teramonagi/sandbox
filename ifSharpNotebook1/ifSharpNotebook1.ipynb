{
 "metadata": {
  "language": "fsharp",
  "name": "",
  "signature": "sha256:9664bc3b14dadfa126e8af9b47ec72c8348b1631d479948ab85e4b6ac59bbb40"
 },
 "nbformat": 3,
 "nbformat_minor": 0,
 "worksheets": [
  {
   "cells": [
    {
     "cell_type": "code",
     "collapsed": false,
     "input": [
      "//\u68d2\u30b0\u30e9\u30d5\u30d2\u30e3\u30c3\u30cf\u30fc\uff01\n",
      "let fruitData = [| (\"Cherries\", 100); (\"Apples\", 200); (\"Bananas\", 150); (\"Peaches\", 10) |]\n",
      "Chart.Bar(fruitData) |> Display"
     ],
     "language": "python",
     "metadata": {},
     "outputs": [
      {
       "metadata": {},
       "output_type": "display_data",
       "png": "[encoded data removed]"
      }
     ],
     "prompt_number": 1
    },
    {
     "cell_type": "code",
     "collapsed": false,
     "input": [
      "[1..100] |> List.map (fun x -> x*2)"
     ],
     "language": "python",
     "metadata": {},
     "outputs": [
      {
       "metadata": {},
       "output_type": "pyout",
       "prompt_number": 4,
       "text": [
        "[2; 4; 6; 8; 10; 12; 14; 16; 18; 20; 22; 24; 26; 28; 30; 32; 34; 36; 38; 40; 42;\n",
        " 44; 46; 48; 50; 52; 54; 56; 58; 60; 62; 64; 66; 68; 70; 72; 74; 76; 78; 80; 82;\n",
        " 84; 86; 88; 90; 92; 94; 96; 98; 100; 102; 104; 106; 108; 110; 112; 114; 116;\n",
        " 118; 120; 122; 124; 126; 128; 130; 132; 134; 136; 138; 140; 142; 144; 146; 148;\n",
        " 150; 152; 154; 156; 158; 160; 162; 164; 166; 168; 170; 172; 174; 176; 178; 180;\n",
        " 182; 184; 186; 188; 190; 192; 194; 196; 198; 200]"
       ]
      }
     ],
     "prompt_number": 4
    },
    {
     "cell_type": "code",
     "collapsed": false,
     "input": [],
     "language": "python",
     "metadata": {},
     "outputs": []
    }
   ],
   "metadata": {}
  }
 ]
}